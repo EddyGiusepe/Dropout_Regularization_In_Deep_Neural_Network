{
  "nbformat": 4,
  "nbformat_minor": 0,
  "metadata": {
    "colab": {
      "name": "Dropout_Regularization_in_Deep_Neural_Network.ipynb",
      "provenance": [],
      "collapsed_sections": [],
      "mount_file_id": "1bB5TTAG2oV2MabACYrbc6Bi6e5kOTIQS",
      "authorship_tag": "ABX9TyMAbaYxNMsx21PX9u/styJR",
      "include_colab_link": true
    },
    "kernelspec": {
      "name": "python3",
      "display_name": "Python 3"
    },
    "accelerator": "GPU"
  },
  "cells": [
    {
      "cell_type": "markdown",
      "metadata": {
        "id": "view-in-github",
        "colab_type": "text"
      },
      "source": [
        "<a href=\"https://colab.research.google.com/github/EddyGiusepe/Dropout_Regularization_In_Deep_Neural_Network/blob/main/Dropout_Regularization_in_Deep_Neural_Network.ipynb\" target=\"_parent\"><img src=\"https://colab.research.google.com/assets/colab-badge.svg\" alt=\"Open In Colab\"/></a>"
      ]
    },
    {
      "cell_type": "markdown",
      "metadata": {
        "id": "FkEcs9-QWyn-"
      },
      "source": [
        "# <h2 align='center'>Dropout Regularization In Deep Neural Network</h2>"
      ]
    },
    {
      "cell_type": "markdown",
      "metadata": {
        "id": "QCmbW1A4XYyt"
      },
      "source": [
        "Informações do conjunto de dados:\r\n",
        "\r\n",
        "O arquivo \"sonar.mines\" contém $111$ padrões obtidos através da projeção de sinais de sonar de um cilindro de metal em vários ângulos e sob várias condições. O arquivo \"sonar.rocks\" contém $97$ padrões obtidos de rochas em condições semelhantes. O sinal de sonar transmitido é um chiado de frequência modulada, aumentando em frequência. O conjunto de dados contém sinais obtidos de uma variedade de ângulos de aspecto diferentes, abrangendo $90$ graus para o cilindro e $180$ graus para a rocha. \r\n",
        "\r\n",
        "\r\n",
        "Cada padrão é um conjunto de $60$ números no intervalo de $0.0$ a $1.0$. **Cada número representa a energia dentro de uma determinada banda de frequência, integrada ao longo (over) de um determinado período de tempo**. A abertura de integração para frequências mais altas ocorre mais tarde, uma vez que essas frequências são transmitidas mais tarde durante o chiado (chirp).\r\n",
        "\r\n",
        "\r\n",
        "O rótulo associado a cada registro contém a letra ``R`` se o objeto for uma rocha e ``M`` se for uma mina (cilindro de metal). Os números nas etiquetas estão em ordem crescente de ângulo de aspecto, mas não codificam o ângulo diretamente.\r\n",
        "\r\n",
        "\r\n",
        "O Dataset pode ser encontrado [aqui](https://archive.ics.uci.edu/ml/datasets/Connectionist+Bench+(Sonar,+Mines+vs.+Rocks)).\r\n",
        "\r\n",
        "\r\n",
        "Uma explicação em vídeo [pode ser assistido aqui](https://www.youtube.com/watch?v=lcI8ukTUEbo&list=PLeo1K3hjS3uu7CxAacxVndI4bE_o3BDtO&index=20)."
      ]
    },
    {
      "cell_type": "markdown",
      "metadata": {
        "id": "k3ZTWHGAcN0u"
      },
      "source": [
        "## Importamos nossas livrarias (nossas bibliotecas)"
      ]
    },
    {
      "cell_type": "code",
      "metadata": {
        "id": "FufjlF5OTQbG"
      },
      "source": [
        "import numpy as np\r\n",
        "import pandas as pd\r\n",
        "import matplotlib.pyplot as plt\r\n",
        "import seaborn as sns\r\n",
        "\r\n",
        "from sklearn.model_selection import train_test_split\r\n",
        "\r\n",
        "import tensorflow as tf\r\n",
        "from tensorflow import keras\r\n",
        "\r\n",
        "from sklearn.metrics import confusion_matrix , classification_report\r\n",
        "\r\n"
      ],
      "execution_count": 1,
      "outputs": []
    },
    {
      "cell_type": "code",
      "metadata": {
        "id": "g3MzoTSQchJL"
      },
      "source": [
        "import warnings \r\n",
        "warnings.filterwarnings('ignore')\r\n"
      ],
      "execution_count": 2,
      "outputs": []
    },
    {
      "cell_type": "markdown",
      "metadata": {
        "id": "EPFO4Aq8eMN4"
      },
      "source": [
        "## Importamos nossos Dados "
      ]
    },
    {
      "cell_type": "code",
      "metadata": {
        "id": "5NmlYUsqc83D"
      },
      "source": [
        "# Usei o cabeçalho é igual a nenhum (None) porque este arquivo não tem nenhum header você vê \r\n",
        "# que ele não tem um nome de coluna e quando você especifica header is none ele vai apenas \r\n",
        "# usar apenas a sequência inteira como nomes de coluna\r\n",
        "\r\n",
        "df = pd.read_csv(\"/content/drive/MyDrive/Apenas_TensorFlow_Eddy/codebasics_YouTube_Tensorflow_keras_PYTHON/deep-learning-keras-tf-tutorial/13_dropout_layer/sonar_dataset.csv\", header=None)\r\n"
      ],
      "execution_count": 3,
      "outputs": []
    },
    {
      "cell_type": "code",
      "metadata": {
        "colab": {
          "base_uri": "https://localhost:8080/",
          "height": 214
        },
        "id": "T6eVAVaLddt_",
        "outputId": "b715dc13-5cb0-4924-8972-c3c900128bbf"
      },
      "source": [
        "# Poder usar também o método:  .head()\r\n",
        "\r\n",
        "df.sample(5)"
      ],
      "execution_count": 4,
      "outputs": [
        {
          "output_type": "execute_result",
          "data": {
            "text/html": [
              "<div>\n",
              "<style scoped>\n",
              "    .dataframe tbody tr th:only-of-type {\n",
              "        vertical-align: middle;\n",
              "    }\n",
              "\n",
              "    .dataframe tbody tr th {\n",
              "        vertical-align: top;\n",
              "    }\n",
              "\n",
              "    .dataframe thead th {\n",
              "        text-align: right;\n",
              "    }\n",
              "</style>\n",
              "<table border=\"1\" class=\"dataframe\">\n",
              "  <thead>\n",
              "    <tr style=\"text-align: right;\">\n",
              "      <th></th>\n",
              "      <th>0</th>\n",
              "      <th>1</th>\n",
              "      <th>2</th>\n",
              "      <th>3</th>\n",
              "      <th>4</th>\n",
              "      <th>5</th>\n",
              "      <th>6</th>\n",
              "      <th>7</th>\n",
              "      <th>8</th>\n",
              "      <th>9</th>\n",
              "      <th>10</th>\n",
              "      <th>11</th>\n",
              "      <th>12</th>\n",
              "      <th>13</th>\n",
              "      <th>14</th>\n",
              "      <th>15</th>\n",
              "      <th>16</th>\n",
              "      <th>17</th>\n",
              "      <th>18</th>\n",
              "      <th>19</th>\n",
              "      <th>20</th>\n",
              "      <th>21</th>\n",
              "      <th>22</th>\n",
              "      <th>23</th>\n",
              "      <th>24</th>\n",
              "      <th>25</th>\n",
              "      <th>26</th>\n",
              "      <th>27</th>\n",
              "      <th>28</th>\n",
              "      <th>29</th>\n",
              "      <th>30</th>\n",
              "      <th>31</th>\n",
              "      <th>32</th>\n",
              "      <th>33</th>\n",
              "      <th>34</th>\n",
              "      <th>35</th>\n",
              "      <th>36</th>\n",
              "      <th>37</th>\n",
              "      <th>38</th>\n",
              "      <th>39</th>\n",
              "      <th>40</th>\n",
              "      <th>41</th>\n",
              "      <th>42</th>\n",
              "      <th>43</th>\n",
              "      <th>44</th>\n",
              "      <th>45</th>\n",
              "      <th>46</th>\n",
              "      <th>47</th>\n",
              "      <th>48</th>\n",
              "      <th>49</th>\n",
              "      <th>50</th>\n",
              "      <th>51</th>\n",
              "      <th>52</th>\n",
              "      <th>53</th>\n",
              "      <th>54</th>\n",
              "      <th>55</th>\n",
              "      <th>56</th>\n",
              "      <th>57</th>\n",
              "      <th>58</th>\n",
              "      <th>59</th>\n",
              "      <th>60</th>\n",
              "    </tr>\n",
              "  </thead>\n",
              "  <tbody>\n",
              "    <tr>\n",
              "      <th>70</th>\n",
              "      <td>0.0065</td>\n",
              "      <td>0.0122</td>\n",
              "      <td>0.0068</td>\n",
              "      <td>0.0108</td>\n",
              "      <td>0.0217</td>\n",
              "      <td>0.0284</td>\n",
              "      <td>0.0527</td>\n",
              "      <td>0.0575</td>\n",
              "      <td>0.1054</td>\n",
              "      <td>0.1109</td>\n",
              "      <td>0.0937</td>\n",
              "      <td>0.0827</td>\n",
              "      <td>0.0920</td>\n",
              "      <td>0.0911</td>\n",
              "      <td>0.1487</td>\n",
              "      <td>0.1666</td>\n",
              "      <td>0.1268</td>\n",
              "      <td>0.1374</td>\n",
              "      <td>0.1095</td>\n",
              "      <td>0.1286</td>\n",
              "      <td>0.2146</td>\n",
              "      <td>0.2889</td>\n",
              "      <td>0.4238</td>\n",
              "      <td>0.6168</td>\n",
              "      <td>0.8167</td>\n",
              "      <td>0.9622</td>\n",
              "      <td>0.8280</td>\n",
              "      <td>0.5816</td>\n",
              "      <td>0.4667</td>\n",
              "      <td>0.3539</td>\n",
              "      <td>0.2727</td>\n",
              "      <td>0.1410</td>\n",
              "      <td>0.1863</td>\n",
              "      <td>0.2176</td>\n",
              "      <td>0.2360</td>\n",
              "      <td>0.1725</td>\n",
              "      <td>0.0589</td>\n",
              "      <td>0.0621</td>\n",
              "      <td>0.1847</td>\n",
              "      <td>0.2452</td>\n",
              "      <td>0.2984</td>\n",
              "      <td>0.3041</td>\n",
              "      <td>0.2275</td>\n",
              "      <td>0.1480</td>\n",
              "      <td>0.1102</td>\n",
              "      <td>0.1178</td>\n",
              "      <td>0.0608</td>\n",
              "      <td>0.0333</td>\n",
              "      <td>0.0276</td>\n",
              "      <td>0.0100</td>\n",
              "      <td>0.0023</td>\n",
              "      <td>0.0069</td>\n",
              "      <td>0.0025</td>\n",
              "      <td>0.0027</td>\n",
              "      <td>0.0052</td>\n",
              "      <td>0.0036</td>\n",
              "      <td>0.0026</td>\n",
              "      <td>0.0036</td>\n",
              "      <td>0.0006</td>\n",
              "      <td>0.0035</td>\n",
              "      <td>R</td>\n",
              "    </tr>\n",
              "    <tr>\n",
              "      <th>140</th>\n",
              "      <td>0.0412</td>\n",
              "      <td>0.1135</td>\n",
              "      <td>0.0518</td>\n",
              "      <td>0.0232</td>\n",
              "      <td>0.0646</td>\n",
              "      <td>0.1124</td>\n",
              "      <td>0.1787</td>\n",
              "      <td>0.2407</td>\n",
              "      <td>0.2682</td>\n",
              "      <td>0.2058</td>\n",
              "      <td>0.1546</td>\n",
              "      <td>0.2671</td>\n",
              "      <td>0.3141</td>\n",
              "      <td>0.2904</td>\n",
              "      <td>0.3531</td>\n",
              "      <td>0.5079</td>\n",
              "      <td>0.4639</td>\n",
              "      <td>0.1859</td>\n",
              "      <td>0.4474</td>\n",
              "      <td>0.4079</td>\n",
              "      <td>0.5400</td>\n",
              "      <td>0.4786</td>\n",
              "      <td>0.4332</td>\n",
              "      <td>0.6113</td>\n",
              "      <td>0.5091</td>\n",
              "      <td>0.4606</td>\n",
              "      <td>0.7243</td>\n",
              "      <td>0.8987</td>\n",
              "      <td>0.8826</td>\n",
              "      <td>0.9201</td>\n",
              "      <td>0.8005</td>\n",
              "      <td>0.6033</td>\n",
              "      <td>0.2120</td>\n",
              "      <td>0.2866</td>\n",
              "      <td>0.4033</td>\n",
              "      <td>0.2803</td>\n",
              "      <td>0.3087</td>\n",
              "      <td>0.3550</td>\n",
              "      <td>0.2545</td>\n",
              "      <td>0.1432</td>\n",
              "      <td>0.5869</td>\n",
              "      <td>0.6431</td>\n",
              "      <td>0.5826</td>\n",
              "      <td>0.4286</td>\n",
              "      <td>0.4894</td>\n",
              "      <td>0.5777</td>\n",
              "      <td>0.4315</td>\n",
              "      <td>0.2640</td>\n",
              "      <td>0.1794</td>\n",
              "      <td>0.0772</td>\n",
              "      <td>0.0798</td>\n",
              "      <td>0.0376</td>\n",
              "      <td>0.0143</td>\n",
              "      <td>0.0272</td>\n",
              "      <td>0.0127</td>\n",
              "      <td>0.0166</td>\n",
              "      <td>0.0095</td>\n",
              "      <td>0.0225</td>\n",
              "      <td>0.0098</td>\n",
              "      <td>0.0085</td>\n",
              "      <td>M</td>\n",
              "    </tr>\n",
              "    <tr>\n",
              "      <th>61</th>\n",
              "      <td>0.0135</td>\n",
              "      <td>0.0045</td>\n",
              "      <td>0.0051</td>\n",
              "      <td>0.0289</td>\n",
              "      <td>0.0561</td>\n",
              "      <td>0.0929</td>\n",
              "      <td>0.1031</td>\n",
              "      <td>0.0883</td>\n",
              "      <td>0.1596</td>\n",
              "      <td>0.1908</td>\n",
              "      <td>0.1576</td>\n",
              "      <td>0.1112</td>\n",
              "      <td>0.1197</td>\n",
              "      <td>0.1174</td>\n",
              "      <td>0.1415</td>\n",
              "      <td>0.2215</td>\n",
              "      <td>0.2658</td>\n",
              "      <td>0.2713</td>\n",
              "      <td>0.3862</td>\n",
              "      <td>0.5717</td>\n",
              "      <td>0.6797</td>\n",
              "      <td>0.8747</td>\n",
              "      <td>1.0000</td>\n",
              "      <td>0.8948</td>\n",
              "      <td>0.8420</td>\n",
              "      <td>0.9174</td>\n",
              "      <td>0.9307</td>\n",
              "      <td>0.9050</td>\n",
              "      <td>0.8228</td>\n",
              "      <td>0.6986</td>\n",
              "      <td>0.5831</td>\n",
              "      <td>0.4924</td>\n",
              "      <td>0.4563</td>\n",
              "      <td>0.5159</td>\n",
              "      <td>0.5670</td>\n",
              "      <td>0.5284</td>\n",
              "      <td>0.5144</td>\n",
              "      <td>0.3742</td>\n",
              "      <td>0.2282</td>\n",
              "      <td>0.1193</td>\n",
              "      <td>0.1088</td>\n",
              "      <td>0.0431</td>\n",
              "      <td>0.1070</td>\n",
              "      <td>0.0583</td>\n",
              "      <td>0.0046</td>\n",
              "      <td>0.0473</td>\n",
              "      <td>0.0408</td>\n",
              "      <td>0.0290</td>\n",
              "      <td>0.0192</td>\n",
              "      <td>0.0094</td>\n",
              "      <td>0.0025</td>\n",
              "      <td>0.0037</td>\n",
              "      <td>0.0084</td>\n",
              "      <td>0.0102</td>\n",
              "      <td>0.0096</td>\n",
              "      <td>0.0024</td>\n",
              "      <td>0.0037</td>\n",
              "      <td>0.0028</td>\n",
              "      <td>0.0030</td>\n",
              "      <td>0.0030</td>\n",
              "      <td>R</td>\n",
              "    </tr>\n",
              "    <tr>\n",
              "      <th>173</th>\n",
              "      <td>0.0329</td>\n",
              "      <td>0.0216</td>\n",
              "      <td>0.0386</td>\n",
              "      <td>0.0627</td>\n",
              "      <td>0.1158</td>\n",
              "      <td>0.1482</td>\n",
              "      <td>0.2054</td>\n",
              "      <td>0.1605</td>\n",
              "      <td>0.2532</td>\n",
              "      <td>0.2672</td>\n",
              "      <td>0.3056</td>\n",
              "      <td>0.3161</td>\n",
              "      <td>0.2314</td>\n",
              "      <td>0.2067</td>\n",
              "      <td>0.1804</td>\n",
              "      <td>0.2808</td>\n",
              "      <td>0.4423</td>\n",
              "      <td>0.5947</td>\n",
              "      <td>0.6601</td>\n",
              "      <td>0.5844</td>\n",
              "      <td>0.4539</td>\n",
              "      <td>0.4789</td>\n",
              "      <td>0.5646</td>\n",
              "      <td>0.5281</td>\n",
              "      <td>0.7115</td>\n",
              "      <td>1.0000</td>\n",
              "      <td>0.9564</td>\n",
              "      <td>0.6090</td>\n",
              "      <td>0.5112</td>\n",
              "      <td>0.4000</td>\n",
              "      <td>0.0482</td>\n",
              "      <td>0.1852</td>\n",
              "      <td>0.2186</td>\n",
              "      <td>0.1436</td>\n",
              "      <td>0.1757</td>\n",
              "      <td>0.1428</td>\n",
              "      <td>0.1644</td>\n",
              "      <td>0.3089</td>\n",
              "      <td>0.3648</td>\n",
              "      <td>0.4441</td>\n",
              "      <td>0.3859</td>\n",
              "      <td>0.2813</td>\n",
              "      <td>0.1238</td>\n",
              "      <td>0.0953</td>\n",
              "      <td>0.1201</td>\n",
              "      <td>0.0825</td>\n",
              "      <td>0.0618</td>\n",
              "      <td>0.0141</td>\n",
              "      <td>0.0108</td>\n",
              "      <td>0.0124</td>\n",
              "      <td>0.0104</td>\n",
              "      <td>0.0095</td>\n",
              "      <td>0.0151</td>\n",
              "      <td>0.0059</td>\n",
              "      <td>0.0015</td>\n",
              "      <td>0.0053</td>\n",
              "      <td>0.0016</td>\n",
              "      <td>0.0042</td>\n",
              "      <td>0.0053</td>\n",
              "      <td>0.0074</td>\n",
              "      <td>M</td>\n",
              "    </tr>\n",
              "    <tr>\n",
              "      <th>55</th>\n",
              "      <td>0.0201</td>\n",
              "      <td>0.0116</td>\n",
              "      <td>0.0123</td>\n",
              "      <td>0.0245</td>\n",
              "      <td>0.0547</td>\n",
              "      <td>0.0208</td>\n",
              "      <td>0.0891</td>\n",
              "      <td>0.0836</td>\n",
              "      <td>0.1335</td>\n",
              "      <td>0.1199</td>\n",
              "      <td>0.1742</td>\n",
              "      <td>0.1387</td>\n",
              "      <td>0.2042</td>\n",
              "      <td>0.2580</td>\n",
              "      <td>0.2616</td>\n",
              "      <td>0.2097</td>\n",
              "      <td>0.2532</td>\n",
              "      <td>0.3213</td>\n",
              "      <td>0.4327</td>\n",
              "      <td>0.4760</td>\n",
              "      <td>0.5328</td>\n",
              "      <td>0.6057</td>\n",
              "      <td>0.6696</td>\n",
              "      <td>0.7476</td>\n",
              "      <td>0.8930</td>\n",
              "      <td>0.9405</td>\n",
              "      <td>1.0000</td>\n",
              "      <td>0.9785</td>\n",
              "      <td>0.8473</td>\n",
              "      <td>0.7639</td>\n",
              "      <td>0.6701</td>\n",
              "      <td>0.4989</td>\n",
              "      <td>0.3718</td>\n",
              "      <td>0.2196</td>\n",
              "      <td>0.1416</td>\n",
              "      <td>0.2680</td>\n",
              "      <td>0.2630</td>\n",
              "      <td>0.3104</td>\n",
              "      <td>0.3392</td>\n",
              "      <td>0.2123</td>\n",
              "      <td>0.1170</td>\n",
              "      <td>0.2655</td>\n",
              "      <td>0.2203</td>\n",
              "      <td>0.1541</td>\n",
              "      <td>0.1464</td>\n",
              "      <td>0.1044</td>\n",
              "      <td>0.1225</td>\n",
              "      <td>0.0745</td>\n",
              "      <td>0.0490</td>\n",
              "      <td>0.0224</td>\n",
              "      <td>0.0032</td>\n",
              "      <td>0.0076</td>\n",
              "      <td>0.0045</td>\n",
              "      <td>0.0056</td>\n",
              "      <td>0.0075</td>\n",
              "      <td>0.0037</td>\n",
              "      <td>0.0045</td>\n",
              "      <td>0.0029</td>\n",
              "      <td>0.0008</td>\n",
              "      <td>0.0018</td>\n",
              "      <td>R</td>\n",
              "    </tr>\n",
              "  </tbody>\n",
              "</table>\n",
              "</div>"
            ],
            "text/plain": [
              "         0       1       2       3       4   ...      56      57      58      59  60\n",
              "70   0.0065  0.0122  0.0068  0.0108  0.0217  ...  0.0026  0.0036  0.0006  0.0035   R\n",
              "140  0.0412  0.1135  0.0518  0.0232  0.0646  ...  0.0095  0.0225  0.0098  0.0085   M\n",
              "61   0.0135  0.0045  0.0051  0.0289  0.0561  ...  0.0037  0.0028  0.0030  0.0030   R\n",
              "173  0.0329  0.0216  0.0386  0.0627  0.1158  ...  0.0016  0.0042  0.0053  0.0074   M\n",
              "55   0.0201  0.0116  0.0123  0.0245  0.0547  ...  0.0045  0.0029  0.0008  0.0018   R\n",
              "\n",
              "[5 rows x 61 columns]"
            ]
          },
          "metadata": {
            "tags": []
          },
          "execution_count": 4
        }
      ]
    },
    {
      "cell_type": "code",
      "metadata": {
        "colab": {
          "base_uri": "https://localhost:8080/"
        },
        "id": "Zbk0vtiqdf_f",
        "outputId": "1158a513-044a-42d3-efe1-0259bfeb3800"
      },
      "source": [
        "df.shape"
      ],
      "execution_count": 5,
      "outputs": [
        {
          "output_type": "execute_result",
          "data": {
            "text/plain": [
              "(208, 61)"
            ]
          },
          "metadata": {
            "tags": []
          },
          "execution_count": 5
        }
      ]
    },
    {
      "cell_type": "code",
      "metadata": {
        "colab": {
          "base_uri": "https://localhost:8080/"
        },
        "id": "2miMEQVTeAab",
        "outputId": "c59863da-226e-4d11-f027-3e4aad070359"
      },
      "source": [
        "# verificamos se temos valores \"nan\"\r\n",
        "\r\n",
        "df.isna().sum()"
      ],
      "execution_count": 6,
      "outputs": [
        {
          "output_type": "execute_result",
          "data": {
            "text/plain": [
              "0     0\n",
              "1     0\n",
              "2     0\n",
              "3     0\n",
              "4     0\n",
              "     ..\n",
              "56    0\n",
              "57    0\n",
              "58    0\n",
              "59    0\n",
              "60    0\n",
              "Length: 61, dtype: int64"
            ]
          },
          "metadata": {
            "tags": []
          },
          "execution_count": 6
        }
      ]
    },
    {
      "cell_type": "code",
      "metadata": {
        "colab": {
          "base_uri": "https://localhost:8080/"
        },
        "id": "S5LpjlplflRz",
        "outputId": "6cef3a5d-1bff-4f09-a371-f03319f94bad"
      },
      "source": [
        "# Nomes das colunas\r\n",
        "# Nossa target é a coluna número 60\r\n",
        "df.columns\r\n"
      ],
      "execution_count": 7,
      "outputs": [
        {
          "output_type": "execute_result",
          "data": {
            "text/plain": [
              "Int64Index([ 0,  1,  2,  3,  4,  5,  6,  7,  8,  9, 10, 11, 12, 13, 14, 15, 16,\n",
              "            17, 18, 19, 20, 21, 22, 23, 24, 25, 26, 27, 28, 29, 30, 31, 32, 33,\n",
              "            34, 35, 36, 37, 38, 39, 40, 41, 42, 43, 44, 45, 46, 47, 48, 49, 50,\n",
              "            51, 52, 53, 54, 55, 56, 57, 58, 59, 60],\n",
              "           dtype='int64')"
            ]
          },
          "metadata": {
            "tags": []
          },
          "execution_count": 7
        }
      ]
    },
    {
      "cell_type": "code",
      "metadata": {
        "colab": {
          "base_uri": "https://localhost:8080/"
        },
        "id": "v85URbsOgOM4",
        "outputId": "a43d0128-21f5-4148-a9f2-dd8bd35301d7"
      },
      "source": [
        "# Aqui vemos que nossas etiquetas não estão enviesadas (ou desbalançeadas)\r\n",
        "# Vemos isso na coluna número 60\r\n",
        "\r\n",
        "df[60].value_counts()\r\n"
      ],
      "execution_count": 8,
      "outputs": [
        {
          "output_type": "execute_result",
          "data": {
            "text/plain": [
              "M    111\n",
              "R     97\n",
              "Name: 60, dtype: int64"
            ]
          },
          "metadata": {
            "tags": []
          },
          "execution_count": 8
        }
      ]
    },
    {
      "cell_type": "code",
      "metadata": {
        "id": "AdqeJa7sg_bv"
      },
      "source": [
        "# Criamos nosso \"x\" e \"y\"\r\n",
        "\r\n",
        "x = df.drop(60, axis=1)\r\n",
        "y = df[60]\r\n"
      ],
      "execution_count": 9,
      "outputs": []
    },
    {
      "cell_type": "code",
      "metadata": {
        "colab": {
          "base_uri": "https://localhost:8080/"
        },
        "id": "1xRYqdqakEd4",
        "outputId": "59a234c7-3af4-40f1-dd2d-6a0d62717cb7"
      },
      "source": [
        "# verificamos nossa target\r\n",
        "\r\n",
        "y.sample(6)"
      ],
      "execution_count": 10,
      "outputs": [
        {
          "output_type": "execute_result",
          "data": {
            "text/plain": [
              "33     R\n",
              "17     R\n",
              "27     R\n",
              "190    M\n",
              "107    M\n",
              "55     R\n",
              "Name: 60, dtype: object"
            ]
          },
          "metadata": {
            "tags": []
          },
          "execution_count": 10
        }
      ]
    },
    {
      "cell_type": "code",
      "metadata": {
        "colab": {
          "base_uri": "https://localhost:8080/",
          "height": 223
        },
        "id": "GFueQkxRkWWm",
        "outputId": "7fdf615d-7f97-4997-da17-ad39ab1d7f70"
      },
      "source": [
        "# Agora vamos a converter nosso target em valores inteiros (\"0\" ou \"1\")\r\n",
        "# Ou seja: R --> 1 e M -->0\r\n",
        "# pandas.get_dummies --> Converta variáveis ​​categóricas em variáveis ​​dummy/indicadoras.\r\n",
        "\r\n",
        "y = pd.get_dummies(y, drop_first=True)\r\n",
        "y.sample(6)\r\n"
      ],
      "execution_count": 11,
      "outputs": [
        {
          "output_type": "execute_result",
          "data": {
            "text/html": [
              "<div>\n",
              "<style scoped>\n",
              "    .dataframe tbody tr th:only-of-type {\n",
              "        vertical-align: middle;\n",
              "    }\n",
              "\n",
              "    .dataframe tbody tr th {\n",
              "        vertical-align: top;\n",
              "    }\n",
              "\n",
              "    .dataframe thead th {\n",
              "        text-align: right;\n",
              "    }\n",
              "</style>\n",
              "<table border=\"1\" class=\"dataframe\">\n",
              "  <thead>\n",
              "    <tr style=\"text-align: right;\">\n",
              "      <th></th>\n",
              "      <th>R</th>\n",
              "    </tr>\n",
              "  </thead>\n",
              "  <tbody>\n",
              "    <tr>\n",
              "      <th>86</th>\n",
              "      <td>1</td>\n",
              "    </tr>\n",
              "    <tr>\n",
              "      <th>27</th>\n",
              "      <td>1</td>\n",
              "    </tr>\n",
              "    <tr>\n",
              "      <th>141</th>\n",
              "      <td>0</td>\n",
              "    </tr>\n",
              "    <tr>\n",
              "      <th>173</th>\n",
              "      <td>0</td>\n",
              "    </tr>\n",
              "    <tr>\n",
              "      <th>97</th>\n",
              "      <td>0</td>\n",
              "    </tr>\n",
              "    <tr>\n",
              "      <th>182</th>\n",
              "      <td>0</td>\n",
              "    </tr>\n",
              "  </tbody>\n",
              "</table>\n",
              "</div>"
            ],
            "text/plain": [
              "     R\n",
              "86   1\n",
              "27   1\n",
              "141  0\n",
              "173  0\n",
              "97   0\n",
              "182  0"
            ]
          },
          "metadata": {
            "tags": []
          },
          "execution_count": 11
        }
      ]
    },
    {
      "cell_type": "code",
      "metadata": {
        "colab": {
          "base_uri": "https://localhost:8080/"
        },
        "id": "PzEI5N4-mhOq",
        "outputId": "9084e869-1be6-4aca-f9e8-21318a3cbca7"
      },
      "source": [
        "# Vejamos novamente nosso target\r\n",
        "\r\n",
        "y.value_counts()"
      ],
      "execution_count": 12,
      "outputs": [
        {
          "output_type": "execute_result",
          "data": {
            "text/plain": [
              "R\n",
              "0    111\n",
              "1     97\n",
              "dtype: int64"
            ]
          },
          "metadata": {
            "tags": []
          },
          "execution_count": 12
        }
      ]
    },
    {
      "cell_type": "code",
      "metadata": {
        "colab": {
          "base_uri": "https://localhost:8080/",
          "height": 243
        },
        "id": "3Y7gSYoMm8En",
        "outputId": "2c614e3f-de19-4039-bd2d-57179fc056de"
      },
      "source": [
        "x.sample(6)"
      ],
      "execution_count": 13,
      "outputs": [
        {
          "output_type": "execute_result",
          "data": {
            "text/html": [
              "<div>\n",
              "<style scoped>\n",
              "    .dataframe tbody tr th:only-of-type {\n",
              "        vertical-align: middle;\n",
              "    }\n",
              "\n",
              "    .dataframe tbody tr th {\n",
              "        vertical-align: top;\n",
              "    }\n",
              "\n",
              "    .dataframe thead th {\n",
              "        text-align: right;\n",
              "    }\n",
              "</style>\n",
              "<table border=\"1\" class=\"dataframe\">\n",
              "  <thead>\n",
              "    <tr style=\"text-align: right;\">\n",
              "      <th></th>\n",
              "      <th>0</th>\n",
              "      <th>1</th>\n",
              "      <th>2</th>\n",
              "      <th>3</th>\n",
              "      <th>4</th>\n",
              "      <th>5</th>\n",
              "      <th>6</th>\n",
              "      <th>7</th>\n",
              "      <th>8</th>\n",
              "      <th>9</th>\n",
              "      <th>10</th>\n",
              "      <th>11</th>\n",
              "      <th>12</th>\n",
              "      <th>13</th>\n",
              "      <th>14</th>\n",
              "      <th>15</th>\n",
              "      <th>16</th>\n",
              "      <th>17</th>\n",
              "      <th>18</th>\n",
              "      <th>19</th>\n",
              "      <th>20</th>\n",
              "      <th>21</th>\n",
              "      <th>22</th>\n",
              "      <th>23</th>\n",
              "      <th>24</th>\n",
              "      <th>25</th>\n",
              "      <th>26</th>\n",
              "      <th>27</th>\n",
              "      <th>28</th>\n",
              "      <th>29</th>\n",
              "      <th>30</th>\n",
              "      <th>31</th>\n",
              "      <th>32</th>\n",
              "      <th>33</th>\n",
              "      <th>34</th>\n",
              "      <th>35</th>\n",
              "      <th>36</th>\n",
              "      <th>37</th>\n",
              "      <th>38</th>\n",
              "      <th>39</th>\n",
              "      <th>40</th>\n",
              "      <th>41</th>\n",
              "      <th>42</th>\n",
              "      <th>43</th>\n",
              "      <th>44</th>\n",
              "      <th>45</th>\n",
              "      <th>46</th>\n",
              "      <th>47</th>\n",
              "      <th>48</th>\n",
              "      <th>49</th>\n",
              "      <th>50</th>\n",
              "      <th>51</th>\n",
              "      <th>52</th>\n",
              "      <th>53</th>\n",
              "      <th>54</th>\n",
              "      <th>55</th>\n",
              "      <th>56</th>\n",
              "      <th>57</th>\n",
              "      <th>58</th>\n",
              "      <th>59</th>\n",
              "    </tr>\n",
              "  </thead>\n",
              "  <tbody>\n",
              "    <tr>\n",
              "      <th>153</th>\n",
              "      <td>0.0233</td>\n",
              "      <td>0.0394</td>\n",
              "      <td>0.0416</td>\n",
              "      <td>0.0547</td>\n",
              "      <td>0.0993</td>\n",
              "      <td>0.1515</td>\n",
              "      <td>0.1674</td>\n",
              "      <td>0.1513</td>\n",
              "      <td>0.1723</td>\n",
              "      <td>0.2078</td>\n",
              "      <td>0.1239</td>\n",
              "      <td>0.0236</td>\n",
              "      <td>0.1771</td>\n",
              "      <td>0.3115</td>\n",
              "      <td>0.4990</td>\n",
              "      <td>0.6707</td>\n",
              "      <td>0.7655</td>\n",
              "      <td>0.8485</td>\n",
              "      <td>0.9805</td>\n",
              "      <td>1.0000</td>\n",
              "      <td>1.0000</td>\n",
              "      <td>0.9992</td>\n",
              "      <td>0.9067</td>\n",
              "      <td>0.6803</td>\n",
              "      <td>0.5103</td>\n",
              "      <td>0.4716</td>\n",
              "      <td>0.4980</td>\n",
              "      <td>0.6196</td>\n",
              "      <td>0.7171</td>\n",
              "      <td>0.6316</td>\n",
              "      <td>0.3554</td>\n",
              "      <td>0.2897</td>\n",
              "      <td>0.4316</td>\n",
              "      <td>0.3791</td>\n",
              "      <td>0.2421</td>\n",
              "      <td>0.0944</td>\n",
              "      <td>0.0351</td>\n",
              "      <td>0.0844</td>\n",
              "      <td>0.0436</td>\n",
              "      <td>0.1130</td>\n",
              "      <td>0.2045</td>\n",
              "      <td>0.1937</td>\n",
              "      <td>0.0834</td>\n",
              "      <td>0.1502</td>\n",
              "      <td>0.1675</td>\n",
              "      <td>0.1058</td>\n",
              "      <td>0.1111</td>\n",
              "      <td>0.0849</td>\n",
              "      <td>0.0596</td>\n",
              "      <td>0.0201</td>\n",
              "      <td>0.0071</td>\n",
              "      <td>0.0104</td>\n",
              "      <td>0.0062</td>\n",
              "      <td>0.0026</td>\n",
              "      <td>0.0025</td>\n",
              "      <td>0.0061</td>\n",
              "      <td>0.0038</td>\n",
              "      <td>0.0101</td>\n",
              "      <td>0.0078</td>\n",
              "      <td>0.0006</td>\n",
              "    </tr>\n",
              "    <tr>\n",
              "      <th>182</th>\n",
              "      <td>0.0095</td>\n",
              "      <td>0.0308</td>\n",
              "      <td>0.0539</td>\n",
              "      <td>0.0411</td>\n",
              "      <td>0.0613</td>\n",
              "      <td>0.1039</td>\n",
              "      <td>0.1016</td>\n",
              "      <td>0.1394</td>\n",
              "      <td>0.2592</td>\n",
              "      <td>0.3745</td>\n",
              "      <td>0.4229</td>\n",
              "      <td>0.4499</td>\n",
              "      <td>0.5404</td>\n",
              "      <td>0.4303</td>\n",
              "      <td>0.3333</td>\n",
              "      <td>0.3496</td>\n",
              "      <td>0.3426</td>\n",
              "      <td>0.2851</td>\n",
              "      <td>0.4062</td>\n",
              "      <td>0.6833</td>\n",
              "      <td>0.7650</td>\n",
              "      <td>0.6670</td>\n",
              "      <td>0.5703</td>\n",
              "      <td>0.5995</td>\n",
              "      <td>0.6484</td>\n",
              "      <td>0.8614</td>\n",
              "      <td>0.9819</td>\n",
              "      <td>0.9380</td>\n",
              "      <td>0.8435</td>\n",
              "      <td>0.6074</td>\n",
              "      <td>0.5403</td>\n",
              "      <td>0.6890</td>\n",
              "      <td>0.5977</td>\n",
              "      <td>0.3244</td>\n",
              "      <td>0.0516</td>\n",
              "      <td>0.3157</td>\n",
              "      <td>0.3590</td>\n",
              "      <td>0.3881</td>\n",
              "      <td>0.5716</td>\n",
              "      <td>0.4314</td>\n",
              "      <td>0.3051</td>\n",
              "      <td>0.4393</td>\n",
              "      <td>0.4302</td>\n",
              "      <td>0.4831</td>\n",
              "      <td>0.5084</td>\n",
              "      <td>0.1952</td>\n",
              "      <td>0.1539</td>\n",
              "      <td>0.2037</td>\n",
              "      <td>0.1054</td>\n",
              "      <td>0.0251</td>\n",
              "      <td>0.0357</td>\n",
              "      <td>0.0181</td>\n",
              "      <td>0.0019</td>\n",
              "      <td>0.0102</td>\n",
              "      <td>0.0133</td>\n",
              "      <td>0.0040</td>\n",
              "      <td>0.0042</td>\n",
              "      <td>0.0030</td>\n",
              "      <td>0.0031</td>\n",
              "      <td>0.0033</td>\n",
              "    </tr>\n",
              "    <tr>\n",
              "      <th>100</th>\n",
              "      <td>0.0629</td>\n",
              "      <td>0.1065</td>\n",
              "      <td>0.1526</td>\n",
              "      <td>0.1229</td>\n",
              "      <td>0.1437</td>\n",
              "      <td>0.1190</td>\n",
              "      <td>0.0884</td>\n",
              "      <td>0.0907</td>\n",
              "      <td>0.2107</td>\n",
              "      <td>0.3597</td>\n",
              "      <td>0.5466</td>\n",
              "      <td>0.5205</td>\n",
              "      <td>0.5127</td>\n",
              "      <td>0.5395</td>\n",
              "      <td>0.6558</td>\n",
              "      <td>0.8705</td>\n",
              "      <td>0.9786</td>\n",
              "      <td>0.9335</td>\n",
              "      <td>0.7917</td>\n",
              "      <td>0.7383</td>\n",
              "      <td>0.6908</td>\n",
              "      <td>0.3850</td>\n",
              "      <td>0.0671</td>\n",
              "      <td>0.0502</td>\n",
              "      <td>0.2717</td>\n",
              "      <td>0.2839</td>\n",
              "      <td>0.2234</td>\n",
              "      <td>0.1911</td>\n",
              "      <td>0.0408</td>\n",
              "      <td>0.2531</td>\n",
              "      <td>0.1979</td>\n",
              "      <td>0.1891</td>\n",
              "      <td>0.2433</td>\n",
              "      <td>0.1956</td>\n",
              "      <td>0.2667</td>\n",
              "      <td>0.1340</td>\n",
              "      <td>0.1073</td>\n",
              "      <td>0.2023</td>\n",
              "      <td>0.1794</td>\n",
              "      <td>0.0227</td>\n",
              "      <td>0.1313</td>\n",
              "      <td>0.1775</td>\n",
              "      <td>0.1549</td>\n",
              "      <td>0.1626</td>\n",
              "      <td>0.0708</td>\n",
              "      <td>0.0129</td>\n",
              "      <td>0.0795</td>\n",
              "      <td>0.0762</td>\n",
              "      <td>0.0117</td>\n",
              "      <td>0.0061</td>\n",
              "      <td>0.0257</td>\n",
              "      <td>0.0089</td>\n",
              "      <td>0.0262</td>\n",
              "      <td>0.0108</td>\n",
              "      <td>0.0138</td>\n",
              "      <td>0.0187</td>\n",
              "      <td>0.0230</td>\n",
              "      <td>0.0057</td>\n",
              "      <td>0.0113</td>\n",
              "      <td>0.0131</td>\n",
              "    </tr>\n",
              "    <tr>\n",
              "      <th>1</th>\n",
              "      <td>0.0453</td>\n",
              "      <td>0.0523</td>\n",
              "      <td>0.0843</td>\n",
              "      <td>0.0689</td>\n",
              "      <td>0.1183</td>\n",
              "      <td>0.2583</td>\n",
              "      <td>0.2156</td>\n",
              "      <td>0.3481</td>\n",
              "      <td>0.3337</td>\n",
              "      <td>0.2872</td>\n",
              "      <td>0.4918</td>\n",
              "      <td>0.6552</td>\n",
              "      <td>0.6919</td>\n",
              "      <td>0.7797</td>\n",
              "      <td>0.7464</td>\n",
              "      <td>0.9444</td>\n",
              "      <td>1.0000</td>\n",
              "      <td>0.8874</td>\n",
              "      <td>0.8024</td>\n",
              "      <td>0.7818</td>\n",
              "      <td>0.5212</td>\n",
              "      <td>0.4052</td>\n",
              "      <td>0.3957</td>\n",
              "      <td>0.3914</td>\n",
              "      <td>0.3250</td>\n",
              "      <td>0.3200</td>\n",
              "      <td>0.3271</td>\n",
              "      <td>0.2767</td>\n",
              "      <td>0.4423</td>\n",
              "      <td>0.2028</td>\n",
              "      <td>0.3788</td>\n",
              "      <td>0.2947</td>\n",
              "      <td>0.1984</td>\n",
              "      <td>0.2341</td>\n",
              "      <td>0.1306</td>\n",
              "      <td>0.4182</td>\n",
              "      <td>0.3835</td>\n",
              "      <td>0.1057</td>\n",
              "      <td>0.1840</td>\n",
              "      <td>0.1970</td>\n",
              "      <td>0.1674</td>\n",
              "      <td>0.0583</td>\n",
              "      <td>0.1401</td>\n",
              "      <td>0.1628</td>\n",
              "      <td>0.0621</td>\n",
              "      <td>0.0203</td>\n",
              "      <td>0.0530</td>\n",
              "      <td>0.0742</td>\n",
              "      <td>0.0409</td>\n",
              "      <td>0.0061</td>\n",
              "      <td>0.0125</td>\n",
              "      <td>0.0084</td>\n",
              "      <td>0.0089</td>\n",
              "      <td>0.0048</td>\n",
              "      <td>0.0094</td>\n",
              "      <td>0.0191</td>\n",
              "      <td>0.0140</td>\n",
              "      <td>0.0049</td>\n",
              "      <td>0.0052</td>\n",
              "      <td>0.0044</td>\n",
              "    </tr>\n",
              "    <tr>\n",
              "      <th>112</th>\n",
              "      <td>0.0454</td>\n",
              "      <td>0.0472</td>\n",
              "      <td>0.0697</td>\n",
              "      <td>0.1021</td>\n",
              "      <td>0.1397</td>\n",
              "      <td>0.1493</td>\n",
              "      <td>0.1487</td>\n",
              "      <td>0.0771</td>\n",
              "      <td>0.1171</td>\n",
              "      <td>0.1675</td>\n",
              "      <td>0.2799</td>\n",
              "      <td>0.3323</td>\n",
              "      <td>0.4012</td>\n",
              "      <td>0.4296</td>\n",
              "      <td>0.5350</td>\n",
              "      <td>0.5411</td>\n",
              "      <td>0.6870</td>\n",
              "      <td>0.8045</td>\n",
              "      <td>0.9194</td>\n",
              "      <td>0.9169</td>\n",
              "      <td>1.0000</td>\n",
              "      <td>0.9972</td>\n",
              "      <td>0.9093</td>\n",
              "      <td>0.7918</td>\n",
              "      <td>0.6705</td>\n",
              "      <td>0.5324</td>\n",
              "      <td>0.3572</td>\n",
              "      <td>0.2484</td>\n",
              "      <td>0.3161</td>\n",
              "      <td>0.3775</td>\n",
              "      <td>0.3138</td>\n",
              "      <td>0.1713</td>\n",
              "      <td>0.2937</td>\n",
              "      <td>0.5234</td>\n",
              "      <td>0.5926</td>\n",
              "      <td>0.5437</td>\n",
              "      <td>0.4516</td>\n",
              "      <td>0.3379</td>\n",
              "      <td>0.3215</td>\n",
              "      <td>0.2178</td>\n",
              "      <td>0.1674</td>\n",
              "      <td>0.2634</td>\n",
              "      <td>0.2980</td>\n",
              "      <td>0.2037</td>\n",
              "      <td>0.1155</td>\n",
              "      <td>0.0919</td>\n",
              "      <td>0.0882</td>\n",
              "      <td>0.0228</td>\n",
              "      <td>0.0380</td>\n",
              "      <td>0.0142</td>\n",
              "      <td>0.0137</td>\n",
              "      <td>0.0120</td>\n",
              "      <td>0.0042</td>\n",
              "      <td>0.0238</td>\n",
              "      <td>0.0129</td>\n",
              "      <td>0.0084</td>\n",
              "      <td>0.0218</td>\n",
              "      <td>0.0321</td>\n",
              "      <td>0.0154</td>\n",
              "      <td>0.0053</td>\n",
              "    </tr>\n",
              "    <tr>\n",
              "      <th>122</th>\n",
              "      <td>0.0249</td>\n",
              "      <td>0.0119</td>\n",
              "      <td>0.0277</td>\n",
              "      <td>0.0760</td>\n",
              "      <td>0.1218</td>\n",
              "      <td>0.1538</td>\n",
              "      <td>0.1192</td>\n",
              "      <td>0.1229</td>\n",
              "      <td>0.2119</td>\n",
              "      <td>0.2531</td>\n",
              "      <td>0.2855</td>\n",
              "      <td>0.2961</td>\n",
              "      <td>0.3341</td>\n",
              "      <td>0.4287</td>\n",
              "      <td>0.5205</td>\n",
              "      <td>0.6087</td>\n",
              "      <td>0.7236</td>\n",
              "      <td>0.7577</td>\n",
              "      <td>0.7726</td>\n",
              "      <td>0.8098</td>\n",
              "      <td>0.8995</td>\n",
              "      <td>0.9247</td>\n",
              "      <td>0.9365</td>\n",
              "      <td>0.9853</td>\n",
              "      <td>0.9776</td>\n",
              "      <td>1.0000</td>\n",
              "      <td>0.9896</td>\n",
              "      <td>0.9076</td>\n",
              "      <td>0.7306</td>\n",
              "      <td>0.5758</td>\n",
              "      <td>0.4469</td>\n",
              "      <td>0.3719</td>\n",
              "      <td>0.2079</td>\n",
              "      <td>0.0955</td>\n",
              "      <td>0.0488</td>\n",
              "      <td>0.1406</td>\n",
              "      <td>0.2554</td>\n",
              "      <td>0.2054</td>\n",
              "      <td>0.1614</td>\n",
              "      <td>0.2232</td>\n",
              "      <td>0.1773</td>\n",
              "      <td>0.2293</td>\n",
              "      <td>0.2521</td>\n",
              "      <td>0.1464</td>\n",
              "      <td>0.0673</td>\n",
              "      <td>0.0965</td>\n",
              "      <td>0.1492</td>\n",
              "      <td>0.1128</td>\n",
              "      <td>0.0463</td>\n",
              "      <td>0.0193</td>\n",
              "      <td>0.0140</td>\n",
              "      <td>0.0027</td>\n",
              "      <td>0.0068</td>\n",
              "      <td>0.0150</td>\n",
              "      <td>0.0012</td>\n",
              "      <td>0.0133</td>\n",
              "      <td>0.0048</td>\n",
              "      <td>0.0244</td>\n",
              "      <td>0.0077</td>\n",
              "      <td>0.0074</td>\n",
              "    </tr>\n",
              "  </tbody>\n",
              "</table>\n",
              "</div>"
            ],
            "text/plain": [
              "         0       1       2       3   ...      56      57      58      59\n",
              "153  0.0233  0.0394  0.0416  0.0547  ...  0.0038  0.0101  0.0078  0.0006\n",
              "182  0.0095  0.0308  0.0539  0.0411  ...  0.0042  0.0030  0.0031  0.0033\n",
              "100  0.0629  0.1065  0.1526  0.1229  ...  0.0230  0.0057  0.0113  0.0131\n",
              "1    0.0453  0.0523  0.0843  0.0689  ...  0.0140  0.0049  0.0052  0.0044\n",
              "112  0.0454  0.0472  0.0697  0.1021  ...  0.0218  0.0321  0.0154  0.0053\n",
              "122  0.0249  0.0119  0.0277  0.0760  ...  0.0048  0.0244  0.0077  0.0074\n",
              "\n",
              "[6 rows x 60 columns]"
            ]
          },
          "metadata": {
            "tags": []
          },
          "execution_count": 13
        }
      ]
    },
    {
      "cell_type": "markdown",
      "metadata": {
        "id": "E1-Qtq6ooovr"
      },
      "source": [
        "## Dividimos nosso Dataset em Dados de treino e teste"
      ]
    },
    {
      "cell_type": "code",
      "metadata": {
        "id": "VV5M3ytMnknA"
      },
      "source": [
        "x_train, x_test, y_train, y_test = train_test_split(x, y, test_size=0.25, random_state=1)"
      ],
      "execution_count": 14,
      "outputs": []
    },
    {
      "cell_type": "code",
      "metadata": {
        "colab": {
          "base_uri": "https://localhost:8080/",
          "height": 214
        },
        "id": "1T1S94g1pGlT",
        "outputId": "84776dcd-5429-49a3-c14c-e1b124e3fb7c"
      },
      "source": [
        "# Vejamos nosso x_train\r\n",
        "\r\n",
        "x_train.head(5)"
      ],
      "execution_count": 15,
      "outputs": [
        {
          "output_type": "execute_result",
          "data": {
            "text/html": [
              "<div>\n",
              "<style scoped>\n",
              "    .dataframe tbody tr th:only-of-type {\n",
              "        vertical-align: middle;\n",
              "    }\n",
              "\n",
              "    .dataframe tbody tr th {\n",
              "        vertical-align: top;\n",
              "    }\n",
              "\n",
              "    .dataframe thead th {\n",
              "        text-align: right;\n",
              "    }\n",
              "</style>\n",
              "<table border=\"1\" class=\"dataframe\">\n",
              "  <thead>\n",
              "    <tr style=\"text-align: right;\">\n",
              "      <th></th>\n",
              "      <th>0</th>\n",
              "      <th>1</th>\n",
              "      <th>2</th>\n",
              "      <th>3</th>\n",
              "      <th>4</th>\n",
              "      <th>5</th>\n",
              "      <th>6</th>\n",
              "      <th>7</th>\n",
              "      <th>8</th>\n",
              "      <th>9</th>\n",
              "      <th>10</th>\n",
              "      <th>11</th>\n",
              "      <th>12</th>\n",
              "      <th>13</th>\n",
              "      <th>14</th>\n",
              "      <th>15</th>\n",
              "      <th>16</th>\n",
              "      <th>17</th>\n",
              "      <th>18</th>\n",
              "      <th>19</th>\n",
              "      <th>20</th>\n",
              "      <th>21</th>\n",
              "      <th>22</th>\n",
              "      <th>23</th>\n",
              "      <th>24</th>\n",
              "      <th>25</th>\n",
              "      <th>26</th>\n",
              "      <th>27</th>\n",
              "      <th>28</th>\n",
              "      <th>29</th>\n",
              "      <th>30</th>\n",
              "      <th>31</th>\n",
              "      <th>32</th>\n",
              "      <th>33</th>\n",
              "      <th>34</th>\n",
              "      <th>35</th>\n",
              "      <th>36</th>\n",
              "      <th>37</th>\n",
              "      <th>38</th>\n",
              "      <th>39</th>\n",
              "      <th>40</th>\n",
              "      <th>41</th>\n",
              "      <th>42</th>\n",
              "      <th>43</th>\n",
              "      <th>44</th>\n",
              "      <th>45</th>\n",
              "      <th>46</th>\n",
              "      <th>47</th>\n",
              "      <th>48</th>\n",
              "      <th>49</th>\n",
              "      <th>50</th>\n",
              "      <th>51</th>\n",
              "      <th>52</th>\n",
              "      <th>53</th>\n",
              "      <th>54</th>\n",
              "      <th>55</th>\n",
              "      <th>56</th>\n",
              "      <th>57</th>\n",
              "      <th>58</th>\n",
              "      <th>59</th>\n",
              "    </tr>\n",
              "  </thead>\n",
              "  <tbody>\n",
              "    <tr>\n",
              "      <th>67</th>\n",
              "      <td>0.0368</td>\n",
              "      <td>0.0403</td>\n",
              "      <td>0.0317</td>\n",
              "      <td>0.0293</td>\n",
              "      <td>0.0820</td>\n",
              "      <td>0.1342</td>\n",
              "      <td>0.1161</td>\n",
              "      <td>0.0663</td>\n",
              "      <td>0.0155</td>\n",
              "      <td>0.0506</td>\n",
              "      <td>0.0906</td>\n",
              "      <td>0.2545</td>\n",
              "      <td>0.1464</td>\n",
              "      <td>0.1272</td>\n",
              "      <td>0.1223</td>\n",
              "      <td>0.1669</td>\n",
              "      <td>0.1424</td>\n",
              "      <td>0.1285</td>\n",
              "      <td>0.1857</td>\n",
              "      <td>0.1136</td>\n",
              "      <td>0.2069</td>\n",
              "      <td>0.0219</td>\n",
              "      <td>0.2400</td>\n",
              "      <td>0.2547</td>\n",
              "      <td>0.0240</td>\n",
              "      <td>0.1923</td>\n",
              "      <td>0.4753</td>\n",
              "      <td>0.7003</td>\n",
              "      <td>0.6825</td>\n",
              "      <td>0.6443</td>\n",
              "      <td>0.7063</td>\n",
              "      <td>0.5373</td>\n",
              "      <td>0.6601</td>\n",
              "      <td>0.8708</td>\n",
              "      <td>0.9518</td>\n",
              "      <td>0.9605</td>\n",
              "      <td>0.7712</td>\n",
              "      <td>0.6772</td>\n",
              "      <td>0.6431</td>\n",
              "      <td>0.6720</td>\n",
              "      <td>0.6035</td>\n",
              "      <td>0.5155</td>\n",
              "      <td>0.3802</td>\n",
              "      <td>0.2278</td>\n",
              "      <td>0.1522</td>\n",
              "      <td>0.0801</td>\n",
              "      <td>0.0804</td>\n",
              "      <td>0.0752</td>\n",
              "      <td>0.0566</td>\n",
              "      <td>0.0175</td>\n",
              "      <td>0.0058</td>\n",
              "      <td>0.0091</td>\n",
              "      <td>0.0160</td>\n",
              "      <td>0.0160</td>\n",
              "      <td>0.0081</td>\n",
              "      <td>0.0070</td>\n",
              "      <td>0.0135</td>\n",
              "      <td>0.0067</td>\n",
              "      <td>0.0078</td>\n",
              "      <td>0.0068</td>\n",
              "    </tr>\n",
              "    <tr>\n",
              "      <th>14</th>\n",
              "      <td>0.0124</td>\n",
              "      <td>0.0433</td>\n",
              "      <td>0.0604</td>\n",
              "      <td>0.0449</td>\n",
              "      <td>0.0597</td>\n",
              "      <td>0.0355</td>\n",
              "      <td>0.0531</td>\n",
              "      <td>0.0343</td>\n",
              "      <td>0.1052</td>\n",
              "      <td>0.2120</td>\n",
              "      <td>0.1640</td>\n",
              "      <td>0.1901</td>\n",
              "      <td>0.3026</td>\n",
              "      <td>0.2019</td>\n",
              "      <td>0.0592</td>\n",
              "      <td>0.2390</td>\n",
              "      <td>0.3657</td>\n",
              "      <td>0.3809</td>\n",
              "      <td>0.5929</td>\n",
              "      <td>0.6299</td>\n",
              "      <td>0.5801</td>\n",
              "      <td>0.4574</td>\n",
              "      <td>0.4449</td>\n",
              "      <td>0.3691</td>\n",
              "      <td>0.6446</td>\n",
              "      <td>0.8940</td>\n",
              "      <td>0.8978</td>\n",
              "      <td>0.4980</td>\n",
              "      <td>0.3333</td>\n",
              "      <td>0.2350</td>\n",
              "      <td>0.1553</td>\n",
              "      <td>0.3666</td>\n",
              "      <td>0.4340</td>\n",
              "      <td>0.3082</td>\n",
              "      <td>0.3024</td>\n",
              "      <td>0.4109</td>\n",
              "      <td>0.5501</td>\n",
              "      <td>0.4129</td>\n",
              "      <td>0.5499</td>\n",
              "      <td>0.5018</td>\n",
              "      <td>0.3132</td>\n",
              "      <td>0.2802</td>\n",
              "      <td>0.2351</td>\n",
              "      <td>0.2298</td>\n",
              "      <td>0.1155</td>\n",
              "      <td>0.0724</td>\n",
              "      <td>0.0621</td>\n",
              "      <td>0.0318</td>\n",
              "      <td>0.0450</td>\n",
              "      <td>0.0167</td>\n",
              "      <td>0.0078</td>\n",
              "      <td>0.0083</td>\n",
              "      <td>0.0057</td>\n",
              "      <td>0.0174</td>\n",
              "      <td>0.0188</td>\n",
              "      <td>0.0054</td>\n",
              "      <td>0.0114</td>\n",
              "      <td>0.0196</td>\n",
              "      <td>0.0147</td>\n",
              "      <td>0.0062</td>\n",
              "    </tr>\n",
              "    <tr>\n",
              "      <th>164</th>\n",
              "      <td>0.0163</td>\n",
              "      <td>0.0198</td>\n",
              "      <td>0.0202</td>\n",
              "      <td>0.0386</td>\n",
              "      <td>0.0752</td>\n",
              "      <td>0.1444</td>\n",
              "      <td>0.1487</td>\n",
              "      <td>0.1484</td>\n",
              "      <td>0.2442</td>\n",
              "      <td>0.2822</td>\n",
              "      <td>0.3691</td>\n",
              "      <td>0.3750</td>\n",
              "      <td>0.3927</td>\n",
              "      <td>0.3308</td>\n",
              "      <td>0.1085</td>\n",
              "      <td>0.1139</td>\n",
              "      <td>0.3446</td>\n",
              "      <td>0.5441</td>\n",
              "      <td>0.6470</td>\n",
              "      <td>0.7276</td>\n",
              "      <td>0.7894</td>\n",
              "      <td>0.8264</td>\n",
              "      <td>0.8697</td>\n",
              "      <td>0.7836</td>\n",
              "      <td>0.7140</td>\n",
              "      <td>0.5698</td>\n",
              "      <td>0.2908</td>\n",
              "      <td>0.4636</td>\n",
              "      <td>0.6409</td>\n",
              "      <td>0.7405</td>\n",
              "      <td>0.8069</td>\n",
              "      <td>0.8420</td>\n",
              "      <td>1.0000</td>\n",
              "      <td>0.9536</td>\n",
              "      <td>0.6755</td>\n",
              "      <td>0.3905</td>\n",
              "      <td>0.1249</td>\n",
              "      <td>0.3629</td>\n",
              "      <td>0.6356</td>\n",
              "      <td>0.8116</td>\n",
              "      <td>0.7664</td>\n",
              "      <td>0.5417</td>\n",
              "      <td>0.2614</td>\n",
              "      <td>0.1723</td>\n",
              "      <td>0.2814</td>\n",
              "      <td>0.2764</td>\n",
              "      <td>0.1985</td>\n",
              "      <td>0.1502</td>\n",
              "      <td>0.1219</td>\n",
              "      <td>0.0493</td>\n",
              "      <td>0.0027</td>\n",
              "      <td>0.0077</td>\n",
              "      <td>0.0026</td>\n",
              "      <td>0.0031</td>\n",
              "      <td>0.0083</td>\n",
              "      <td>0.0020</td>\n",
              "      <td>0.0084</td>\n",
              "      <td>0.0108</td>\n",
              "      <td>0.0083</td>\n",
              "      <td>0.0033</td>\n",
              "    </tr>\n",
              "    <tr>\n",
              "      <th>179</th>\n",
              "      <td>0.0394</td>\n",
              "      <td>0.0420</td>\n",
              "      <td>0.0446</td>\n",
              "      <td>0.0551</td>\n",
              "      <td>0.0597</td>\n",
              "      <td>0.1416</td>\n",
              "      <td>0.0956</td>\n",
              "      <td>0.0802</td>\n",
              "      <td>0.1618</td>\n",
              "      <td>0.2558</td>\n",
              "      <td>0.3078</td>\n",
              "      <td>0.3404</td>\n",
              "      <td>0.3400</td>\n",
              "      <td>0.3951</td>\n",
              "      <td>0.3352</td>\n",
              "      <td>0.2252</td>\n",
              "      <td>0.2086</td>\n",
              "      <td>0.2248</td>\n",
              "      <td>0.3382</td>\n",
              "      <td>0.4578</td>\n",
              "      <td>0.6474</td>\n",
              "      <td>0.6708</td>\n",
              "      <td>0.7007</td>\n",
              "      <td>0.7619</td>\n",
              "      <td>0.7745</td>\n",
              "      <td>0.6767</td>\n",
              "      <td>0.7373</td>\n",
              "      <td>0.7834</td>\n",
              "      <td>0.9619</td>\n",
              "      <td>1.0000</td>\n",
              "      <td>0.8086</td>\n",
              "      <td>0.5558</td>\n",
              "      <td>0.5409</td>\n",
              "      <td>0.4988</td>\n",
              "      <td>0.3108</td>\n",
              "      <td>0.2897</td>\n",
              "      <td>0.2244</td>\n",
              "      <td>0.0960</td>\n",
              "      <td>0.2287</td>\n",
              "      <td>0.3228</td>\n",
              "      <td>0.3454</td>\n",
              "      <td>0.3882</td>\n",
              "      <td>0.3240</td>\n",
              "      <td>0.0926</td>\n",
              "      <td>0.1173</td>\n",
              "      <td>0.0566</td>\n",
              "      <td>0.0766</td>\n",
              "      <td>0.0969</td>\n",
              "      <td>0.0588</td>\n",
              "      <td>0.0050</td>\n",
              "      <td>0.0118</td>\n",
              "      <td>0.0146</td>\n",
              "      <td>0.0040</td>\n",
              "      <td>0.0114</td>\n",
              "      <td>0.0032</td>\n",
              "      <td>0.0062</td>\n",
              "      <td>0.0101</td>\n",
              "      <td>0.0068</td>\n",
              "      <td>0.0053</td>\n",
              "      <td>0.0087</td>\n",
              "    </tr>\n",
              "    <tr>\n",
              "      <th>19</th>\n",
              "      <td>0.0126</td>\n",
              "      <td>0.0149</td>\n",
              "      <td>0.0641</td>\n",
              "      <td>0.1732</td>\n",
              "      <td>0.2565</td>\n",
              "      <td>0.2559</td>\n",
              "      <td>0.2947</td>\n",
              "      <td>0.4110</td>\n",
              "      <td>0.4983</td>\n",
              "      <td>0.5920</td>\n",
              "      <td>0.5832</td>\n",
              "      <td>0.5419</td>\n",
              "      <td>0.5472</td>\n",
              "      <td>0.5314</td>\n",
              "      <td>0.4981</td>\n",
              "      <td>0.6985</td>\n",
              "      <td>0.8292</td>\n",
              "      <td>0.7839</td>\n",
              "      <td>0.8215</td>\n",
              "      <td>0.9363</td>\n",
              "      <td>1.0000</td>\n",
              "      <td>0.9224</td>\n",
              "      <td>0.7839</td>\n",
              "      <td>0.5470</td>\n",
              "      <td>0.4562</td>\n",
              "      <td>0.5922</td>\n",
              "      <td>0.5448</td>\n",
              "      <td>0.3971</td>\n",
              "      <td>0.0882</td>\n",
              "      <td>0.2385</td>\n",
              "      <td>0.2005</td>\n",
              "      <td>0.0587</td>\n",
              "      <td>0.2544</td>\n",
              "      <td>0.2009</td>\n",
              "      <td>0.0329</td>\n",
              "      <td>0.1547</td>\n",
              "      <td>0.1212</td>\n",
              "      <td>0.2446</td>\n",
              "      <td>0.3171</td>\n",
              "      <td>0.3195</td>\n",
              "      <td>0.3051</td>\n",
              "      <td>0.0836</td>\n",
              "      <td>0.1266</td>\n",
              "      <td>0.1381</td>\n",
              "      <td>0.1136</td>\n",
              "      <td>0.0516</td>\n",
              "      <td>0.0073</td>\n",
              "      <td>0.0278</td>\n",
              "      <td>0.0372</td>\n",
              "      <td>0.0121</td>\n",
              "      <td>0.0153</td>\n",
              "      <td>0.0092</td>\n",
              "      <td>0.0035</td>\n",
              "      <td>0.0098</td>\n",
              "      <td>0.0121</td>\n",
              "      <td>0.0006</td>\n",
              "      <td>0.0181</td>\n",
              "      <td>0.0094</td>\n",
              "      <td>0.0116</td>\n",
              "      <td>0.0063</td>\n",
              "    </tr>\n",
              "  </tbody>\n",
              "</table>\n",
              "</div>"
            ],
            "text/plain": [
              "         0       1       2       3   ...      56      57      58      59\n",
              "67   0.0368  0.0403  0.0317  0.0293  ...  0.0135  0.0067  0.0078  0.0068\n",
              "14   0.0124  0.0433  0.0604  0.0449  ...  0.0114  0.0196  0.0147  0.0062\n",
              "164  0.0163  0.0198  0.0202  0.0386  ...  0.0084  0.0108  0.0083  0.0033\n",
              "179  0.0394  0.0420  0.0446  0.0551  ...  0.0101  0.0068  0.0053  0.0087\n",
              "19   0.0126  0.0149  0.0641  0.1732  ...  0.0181  0.0094  0.0116  0.0063\n",
              "\n",
              "[5 rows x 60 columns]"
            ]
          },
          "metadata": {
            "tags": []
          },
          "execution_count": 15
        }
      ]
    },
    {
      "cell_type": "markdown",
      "metadata": {
        "id": "XR4XBOcxpq4u"
      },
      "source": [
        "# Agora vamos a usar Deep Learning"
      ]
    },
    {
      "cell_type": "markdown",
      "metadata": {
        "id": "sFHbwxyO1XmZ"
      },
      "source": [
        "## Modelo sem camada de exclusão (Model without Dropout Layer)"
      ]
    },
    {
      "cell_type": "code",
      "metadata": {
        "id": "LvsBh_dkpOIj"
      },
      "source": [
        "# Criamos nossa Red Neuronal\r\n",
        "\r\n",
        "model = keras.Sequential([\r\n",
        "    keras.layers.Dense(60, input_dim=60, activation='relu'),\r\n",
        "    keras.layers.Dense(30, activation='relu'),\r\n",
        "    keras.layers.Dense(15, activation='relu'),\r\n",
        "    keras.layers.Dense(1, activation='sigmoid')\r\n",
        "])\r\n",
        "\r\n",
        "model.compile(loss='binary_crossentropy', optimizer='adam', metrics=['accuracy'])\r\n",
        "\r\n",
        "history = model.fit(x_train, y_train, validation_data=(x_test, y_test), epochs=100,\r\n",
        "                    batch_size=8, verbose=0)\r\n",
        "\r\n"
      ],
      "execution_count": 16,
      "outputs": []
    },
    {
      "cell_type": "code",
      "metadata": {
        "colab": {
          "base_uri": "https://localhost:8080/"
        },
        "id": "DS2MkJlO3RBH",
        "outputId": "b44db5ae-654d-4dac-a937-25de4379b7da"
      },
      "source": [
        "model.evaluate(x_test, y_test)"
      ],
      "execution_count": 17,
      "outputs": [
        {
          "output_type": "stream",
          "text": [
            "2/2 [==============================] - 0s 5ms/step - loss: 1.0740 - accuracy: 0.7308\n"
          ],
          "name": "stdout"
        },
        {
          "output_type": "execute_result",
          "data": {
            "text/plain": [
              "[1.073990821838379, 0.7307692170143127]"
            ]
          },
          "metadata": {
            "tags": []
          },
          "execution_count": 17
        }
      ]
    },
    {
      "cell_type": "markdown",
      "metadata": {
        "id": "7d90w4Yy399Z"
      },
      "source": [
        "Training Accuracy >>> Test Accuracy"
      ]
    },
    {
      "cell_type": "code",
      "metadata": {
        "colab": {
          "base_uri": "https://localhost:8080/"
        },
        "id": "VbdJ8lVs52u-",
        "outputId": "229feab6-5efd-4ca8-aa67-9b3befb73162"
      },
      "source": [
        "_, train_acc = model.evaluate(x_train, y_train, verbose=1)\r\n",
        "_, test_acc = model.evaluate(x_test, y_test, verbose=1)"
      ],
      "execution_count": 18,
      "outputs": [
        {
          "output_type": "stream",
          "text": [
            "5/5 [==============================] - 0s 2ms/step - loss: 0.0020 - accuracy: 1.0000\n",
            "2/2 [==============================] - 0s 5ms/step - loss: 1.0740 - accuracy: 0.7308\n"
          ],
          "name": "stdout"
        }
      ]
    },
    {
      "cell_type": "code",
      "metadata": {
        "colab": {
          "base_uri": "https://localhost:8080/"
        },
        "id": "F9PlcEmc6YIr",
        "outputId": "ebf1d3d8-f8e6-4cdd-c921-ab8ca8b66d2d"
      },
      "source": [
        "print('Train: %.3f, Test: %.3f'% (train_acc, test_acc))"
      ],
      "execution_count": 19,
      "outputs": [
        {
          "output_type": "stream",
          "text": [
            "Train: 1.000, Test: 0.731\n"
          ],
          "name": "stdout"
        }
      ]
    },
    {
      "cell_type": "code",
      "metadata": {
        "colab": {
          "base_uri": "https://localhost:8080/"
        },
        "id": "cf1WfcD53wba",
        "outputId": "95329e86-9b59-444b-a649-7c44689f6244"
      },
      "source": [
        "y_pred = model.predict(x_test).reshape(-1)\r\n",
        "print(y_pred[:10])\r\n",
        "\r\n",
        "# round the values to nearest integer ie 0 or 1\r\n",
        "y_pred = np.round(y_pred)\r\n",
        "print(y_pred[:10])"
      ],
      "execution_count": 20,
      "outputs": [
        {
          "output_type": "stream",
          "text": [
            "[4.2193204e-08 9.9682933e-01 7.5165677e-01 8.7632434e-06 9.9999976e-01\n",
            " 9.9994147e-01 1.0780902e-01 9.9999821e-01 2.8039780e-05 9.9999988e-01]\n",
            "[0. 1. 1. 0. 1. 1. 0. 1. 0. 1.]\n"
          ],
          "name": "stdout"
        }
      ]
    },
    {
      "cell_type": "code",
      "metadata": {
        "colab": {
          "base_uri": "https://localhost:8080/",
          "height": 340
        },
        "id": "mQzvqwTN4P3a",
        "outputId": "7244def1-3f6c-43ab-e9b3-7581b2fc1139"
      },
      "source": [
        "# Comparamos com nosso Dados\r\n",
        "y_test[:10]\r\n"
      ],
      "execution_count": 21,
      "outputs": [
        {
          "output_type": "execute_result",
          "data": {
            "text/html": [
              "<div>\n",
              "<style scoped>\n",
              "    .dataframe tbody tr th:only-of-type {\n",
              "        vertical-align: middle;\n",
              "    }\n",
              "\n",
              "    .dataframe tbody tr th {\n",
              "        vertical-align: top;\n",
              "    }\n",
              "\n",
              "    .dataframe thead th {\n",
              "        text-align: right;\n",
              "    }\n",
              "</style>\n",
              "<table border=\"1\" class=\"dataframe\">\n",
              "  <thead>\n",
              "    <tr style=\"text-align: right;\">\n",
              "      <th></th>\n",
              "      <th>R</th>\n",
              "    </tr>\n",
              "  </thead>\n",
              "  <tbody>\n",
              "    <tr>\n",
              "      <th>186</th>\n",
              "      <td>0</td>\n",
              "    </tr>\n",
              "    <tr>\n",
              "      <th>155</th>\n",
              "      <td>0</td>\n",
              "    </tr>\n",
              "    <tr>\n",
              "      <th>165</th>\n",
              "      <td>0</td>\n",
              "    </tr>\n",
              "    <tr>\n",
              "      <th>200</th>\n",
              "      <td>0</td>\n",
              "    </tr>\n",
              "    <tr>\n",
              "      <th>58</th>\n",
              "      <td>1</td>\n",
              "    </tr>\n",
              "    <tr>\n",
              "      <th>34</th>\n",
              "      <td>1</td>\n",
              "    </tr>\n",
              "    <tr>\n",
              "      <th>151</th>\n",
              "      <td>0</td>\n",
              "    </tr>\n",
              "    <tr>\n",
              "      <th>18</th>\n",
              "      <td>1</td>\n",
              "    </tr>\n",
              "    <tr>\n",
              "      <th>202</th>\n",
              "      <td>0</td>\n",
              "    </tr>\n",
              "    <tr>\n",
              "      <th>62</th>\n",
              "      <td>1</td>\n",
              "    </tr>\n",
              "  </tbody>\n",
              "</table>\n",
              "</div>"
            ],
            "text/plain": [
              "     R\n",
              "186  0\n",
              "155  0\n",
              "165  0\n",
              "200  0\n",
              "58   1\n",
              "34   1\n",
              "151  0\n",
              "18   1\n",
              "202  0\n",
              "62   1"
            ]
          },
          "metadata": {
            "tags": []
          },
          "execution_count": 21
        }
      ]
    },
    {
      "cell_type": "code",
      "metadata": {
        "colab": {
          "base_uri": "https://localhost:8080/"
        },
        "id": "6MSVs0T6461b",
        "outputId": "120eb837-ff62-4484-c115-59c79703f800"
      },
      "source": [
        "print(\"A nossa matriz de confusão é: \")\r\n",
        "print(confusion_matrix(y_test, y_pred))"
      ],
      "execution_count": 22,
      "outputs": [
        {
          "output_type": "stream",
          "text": [
            "A nossa matriz de confusão é: \n",
            "[[23  4]\n",
            " [10 15]]\n"
          ],
          "name": "stdout"
        }
      ]
    },
    {
      "cell_type": "code",
      "metadata": {
        "colab": {
          "base_uri": "https://localhost:8080/"
        },
        "id": "uCXGH8kf4bYK",
        "outputId": "81baa5ad-5c08-4f81-cb15-9f38b1495c44"
      },
      "source": [
        "print(\"Nosso relatório de classificação é: \")\r\n",
        "print(classification_report(y_test, y_pred))\r\n"
      ],
      "execution_count": 23,
      "outputs": [
        {
          "output_type": "stream",
          "text": [
            "Nosso relatório de classificação é: \n",
            "              precision    recall  f1-score   support\n",
            "\n",
            "           0       0.70      0.85      0.77        27\n",
            "           1       0.79      0.60      0.68        25\n",
            "\n",
            "    accuracy                           0.73        52\n",
            "   macro avg       0.74      0.73      0.72        52\n",
            "weighted avg       0.74      0.73      0.73        52\n",
            "\n"
          ],
          "name": "stdout"
        }
      ]
    },
    {
      "cell_type": "code",
      "metadata": {
        "colab": {
          "base_uri": "https://localhost:8080/",
          "height": 281
        },
        "id": "fnG-XmBL41wi",
        "outputId": "78a57ef2-27c9-4c50-f784-764b1ecb9c5f"
      },
      "source": [
        "# plot loss learning curves\r\n",
        "\r\n",
        "plt.title('Cross-Entropy Loss')\r\n",
        "plt.plot(history.history['loss'], label='train')\r\n",
        "plt.plot(history.history['val_loss'], label='test')\r\n",
        "plt.legend()\r\n",
        "plt.show()"
      ],
      "execution_count": 24,
      "outputs": [
        {
          "output_type": "display_data",
          "data": {
            "image/png": "[encoded data removed]",
            "text/plain": [
              "<Figure size 432x288 with 1 Axes>"
            ]
          },
          "metadata": {
            "tags": [],
            "needs_background": "light"
          }
        }
      ]
    },
    {
      "cell_type": "code",
      "metadata": {
        "colab": {
          "base_uri": "https://localhost:8080/",
          "height": 278
        },
        "id": "ktd-Gn5K6yej",
        "outputId": "32201cd3-2016-4aad-fe87-e38c83ae6687"
      },
      "source": [
        "# plot accuracy learning curves\r\n",
        "\r\n",
        "plt.title('Accuracy', pad=-40)\r\n",
        "plt.plot(history.history['accuracy'], label='train')\r\n",
        "plt.plot(history.history['val_accuracy'], label='test')\r\n",
        "plt.legend()\r\n",
        "plt.show()\r\n"
      ],
      "execution_count": 25,
      "outputs": [
        {
          "output_type": "display_data",
          "data": {
            "image/png": "[encoded data removed]",
            "text/plain": [
              "<Figure size 432x288 with 1 Axes>"
            ]
          },
          "metadata": {
            "tags": [],
            "needs_background": "light"
          }
        }
      ]
    },
    {
      "cell_type": "markdown",
      "metadata": {
        "id": "kH3lAYRU_5Ck"
      },
      "source": [
        "## Modelo com camada de exclusão (Model with Dropout Layer)"
      ]
    },
    {
      "cell_type": "code",
      "metadata": {
        "id": "55eSKpaq97qz"
      },
      "source": [
        "modeld = keras.Sequential([\r\n",
        "    keras.layers.Dense(60, input_dim=60, activation='relu'),\r\n",
        "    keras.layers.Dropout(0.70),\r\n",
        "    keras.layers.Dense(30, activation='relu'),\r\n",
        "    keras.layers.Dropout(0.70),\r\n",
        "    keras.layers.Dense(15, activation='relu'),\r\n",
        "    keras.layers.Dropout(0.70),\r\n",
        "    keras.layers.Dense(1, activation='sigmoid')\r\n",
        "])\r\n",
        "\r\n",
        "modeld.compile(loss='binary_crossentropy', optimizer='adam', metrics=['accuracy'])\r\n",
        "\r\n",
        "historyd = modeld.fit(x_train, y_train, validation_data=(x_test, y_test),\r\n",
        "                      epochs=100, batch_size=8, verbose=0)"
      ],
      "execution_count": 26,
      "outputs": []
    },
    {
      "cell_type": "code",
      "metadata": {
        "colab": {
          "base_uri": "https://localhost:8080/"
        },
        "id": "ccYXwv2TF7UY",
        "outputId": "0208ea7c-ab7e-4166-d872-b351fb3ec596"
      },
      "source": [
        "_, traind_acc = modeld.evaluate(x_train, y_train, verbose=1)\r\n",
        "_, testd_acc = modeld.evaluate(x_test, y_test, verbose=1)"
      ],
      "execution_count": 27,
      "outputs": [
        {
          "output_type": "stream",
          "text": [
            "5/5 [==============================] - 0s 2ms/step - loss: 0.5786 - accuracy: 0.7500\n",
            "2/2 [==============================] - 0s 5ms/step - loss: 0.6054 - accuracy: 0.7308\n"
          ],
          "name": "stdout"
        }
      ]
    },
    {
      "cell_type": "markdown",
      "metadata": {
        "id": "g2d__YZZGOjd"
      },
      "source": [
        "A precisão do treinamento ainda é boa, mas a precisão do teste melhorou (Training Accuracy is still good but Test Accuracy Improved)."
      ]
    },
    {
      "cell_type": "code",
      "metadata": {
        "colab": {
          "base_uri": "https://localhost:8080/"
        },
        "id": "kjzJZghnGAO2",
        "outputId": "d53d13f2-d630-4f4f-8a76-68a087af3d99"
      },
      "source": [
        "print('Train: %.3f, Test: %.3f' % (traind_acc, testd_acc))"
      ],
      "execution_count": 28,
      "outputs": [
        {
          "output_type": "stream",
          "text": [
            "Train: 0.750, Test: 0.731\n"
          ],
          "name": "stdout"
        }
      ]
    },
    {
      "cell_type": "code",
      "metadata": {
        "colab": {
          "base_uri": "https://localhost:8080/"
        },
        "id": "i4skcNE8HCR3",
        "outputId": "1e33748a-ae3d-4991-bbd1-56ded77ae554"
      },
      "source": [
        "y_pred = modeld.predict(x_test).reshape(-1)\r\n",
        "print(y_pred[:10])\r\n",
        "\r\n",
        "# round the values to nearest integer ie 0 or 1\r\n",
        "y_pred = np.round(y_pred)\r\n",
        "print(y_pred[:10])"
      ],
      "execution_count": 29,
      "outputs": [
        {
          "output_type": "stream",
          "text": [
            "[0.3481594  0.43594912 0.54886425 0.38892296 0.6687202  0.5381419\n",
            " 0.41380066 0.66654545 0.38131854 0.71738565]\n",
            "[0. 0. 1. 0. 1. 1. 0. 1. 0. 1.]\n"
          ],
          "name": "stdout"
        }
      ]
    },
    {
      "cell_type": "code",
      "metadata": {
        "colab": {
          "base_uri": "https://localhost:8080/",
          "height": 340
        },
        "id": "_UaC4YwXHdMn",
        "outputId": "5247b0fe-f1a4-4097-af9f-c0d76a70cb3f"
      },
      "source": [
        "# Comparamos com nosso Dados\r\n",
        "y_test[:10]\r\n"
      ],
      "execution_count": 30,
      "outputs": [
        {
          "output_type": "execute_result",
          "data": {
            "text/html": [
              "<div>\n",
              "<style scoped>\n",
              "    .dataframe tbody tr th:only-of-type {\n",
              "        vertical-align: middle;\n",
              "    }\n",
              "\n",
              "    .dataframe tbody tr th {\n",
              "        vertical-align: top;\n",
              "    }\n",
              "\n",
              "    .dataframe thead th {\n",
              "        text-align: right;\n",
              "    }\n",
              "</style>\n",
              "<table border=\"1\" class=\"dataframe\">\n",
              "  <thead>\n",
              "    <tr style=\"text-align: right;\">\n",
              "      <th></th>\n",
              "      <th>R</th>\n",
              "    </tr>\n",
              "  </thead>\n",
              "  <tbody>\n",
              "    <tr>\n",
              "      <th>186</th>\n",
              "      <td>0</td>\n",
              "    </tr>\n",
              "    <tr>\n",
              "      <th>155</th>\n",
              "      <td>0</td>\n",
              "    </tr>\n",
              "    <tr>\n",
              "      <th>165</th>\n",
              "      <td>0</td>\n",
              "    </tr>\n",
              "    <tr>\n",
              "      <th>200</th>\n",
              "      <td>0</td>\n",
              "    </tr>\n",
              "    <tr>\n",
              "      <th>58</th>\n",
              "      <td>1</td>\n",
              "    </tr>\n",
              "    <tr>\n",
              "      <th>34</th>\n",
              "      <td>1</td>\n",
              "    </tr>\n",
              "    <tr>\n",
              "      <th>151</th>\n",
              "      <td>0</td>\n",
              "    </tr>\n",
              "    <tr>\n",
              "      <th>18</th>\n",
              "      <td>1</td>\n",
              "    </tr>\n",
              "    <tr>\n",
              "      <th>202</th>\n",
              "      <td>0</td>\n",
              "    </tr>\n",
              "    <tr>\n",
              "      <th>62</th>\n",
              "      <td>1</td>\n",
              "    </tr>\n",
              "  </tbody>\n",
              "</table>\n",
              "</div>"
            ],
            "text/plain": [
              "     R\n",
              "186  0\n",
              "155  0\n",
              "165  0\n",
              "200  0\n",
              "58   1\n",
              "34   1\n",
              "151  0\n",
              "18   1\n",
              "202  0\n",
              "62   1"
            ]
          },
          "metadata": {
            "tags": []
          },
          "execution_count": 30
        }
      ]
    },
    {
      "cell_type": "code",
      "metadata": {
        "colab": {
          "base_uri": "https://localhost:8080/"
        },
        "id": "oqGek1zHHmeO",
        "outputId": "366c9951-bedd-4573-a07b-61e2e4a0720c"
      },
      "source": [
        "print(\"A nossa matriz de confusão é: \")\r\n",
        "print(confusion_matrix(y_test, y_pred))"
      ],
      "execution_count": 31,
      "outputs": [
        {
          "output_type": "stream",
          "text": [
            "A nossa matriz de confusão é: \n",
            "[[26  1]\n",
            " [13 12]]\n"
          ],
          "name": "stdout"
        }
      ]
    },
    {
      "cell_type": "code",
      "metadata": {
        "colab": {
          "base_uri": "https://localhost:8080/"
        },
        "id": "TmaeY6plIA8A",
        "outputId": "89d8ad2e-08c6-4e6a-cf07-12fbc1765c54"
      },
      "source": [
        "print(\"Nosso relatório de classificação é: \")\r\n",
        "print(classification_report(y_test, y_pred))\r\n"
      ],
      "execution_count": 32,
      "outputs": [
        {
          "output_type": "stream",
          "text": [
            "Nosso relatório de classificação é: \n",
            "              precision    recall  f1-score   support\n",
            "\n",
            "           0       0.67      0.96      0.79        27\n",
            "           1       0.92      0.48      0.63        25\n",
            "\n",
            "    accuracy                           0.73        52\n",
            "   macro avg       0.79      0.72      0.71        52\n",
            "weighted avg       0.79      0.73      0.71        52\n",
            "\n"
          ],
          "name": "stdout"
        }
      ]
    },
    {
      "cell_type": "code",
      "metadata": {
        "colab": {
          "base_uri": "https://localhost:8080/",
          "height": 281
        },
        "id": "rbsrm_rDIJAk",
        "outputId": "d89229f7-3a4c-4c50-e52f-d8e9d1cfef8b"
      },
      "source": [
        "# plot loss learning curves\r\n",
        "\r\n",
        "plt.title('Cross-Entropy Loss')\r\n",
        "plt.plot(historyd.history['loss'], label='train')\r\n",
        "plt.plot(historyd.history['val_loss'], label='test')\r\n",
        "plt.legend()\r\n",
        "plt.show()"
      ],
      "execution_count": 33,
      "outputs": [
        {
          "output_type": "display_data",
          "data": {
            "image/png": "[encoded data removed]",
            "text/plain": [
              "<Figure size 432x288 with 1 Axes>"
            ]
          },
          "metadata": {
            "tags": [],
            "needs_background": "light"
          }
        }
      ]
    },
    {
      "cell_type": "code",
      "metadata": {
        "colab": {
          "base_uri": "https://localhost:8080/",
          "height": 278
        },
        "id": "EpaR7rA1JFr6",
        "outputId": "8440bd68-71ff-40da-fc47-927f3c7f094c"
      },
      "source": [
        "# plot accuracy learning curves\r\n",
        "\r\n",
        "plt.title('Accuracy', pad=-40)\r\n",
        "plt.plot(historyd.history['accuracy'], label='train')\r\n",
        "plt.plot(historyd.history['val_accuracy'], label='test')\r\n",
        "plt.legend()\r\n",
        "plt.show()\r\n"
      ],
      "execution_count": 34,
      "outputs": [
        {
          "output_type": "display_data",
          "data": {
            "image/png": "[encoded data removed]",
            "text/plain": [
              "<Figure size 432x288 with 1 Axes>"
            ]
          },
          "metadata": {
            "tags": [],
            "needs_background": "light"
          }
        }
      ]
    },
    {
      "cell_type": "markdown",
      "metadata": {
        "id": "RZu9Eak9Jctj"
      },
      "source": [
        "Podemos ver que, usando o teste da camada de eliminação (Dropout), a precisão aumentou de $0.71$ para $0.75$"
      ]
    }
  ]
}